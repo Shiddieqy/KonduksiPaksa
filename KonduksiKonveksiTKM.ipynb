{
 "cells": [
  {
   "cell_type": "markdown",
   "metadata": {},
   "source": [
    "Tugas Konduksi Paksa Aliran Eksteral\n",
    "Nama    : Shabri Ash Shiddieqy\n",
    "NIM     : 13320075\n",
    "\n",
    "Untuk dapat menentukan kalor yang terbuang maka memerlukan nilai Ts. Untuk mencari nilai Ts ini diperlukan iterasi tertutup dengan alur kerja sebagai berikut"
   ]
  },
  {
   "cell_type": "markdown",
   "metadata": {},
   "source": [
    "<p align=\"center\">\n",
    " <img width=\"180\" src=\"Flowchart.png\" alt=\"Flowchart\">\n",
    "</p>"
   ]
  },
  {
   "cell_type": "markdown",
   "metadata": {},
   "source": [
    "Deklarasi nilai nilai variabel yang diketahui"
   ]
  },
  {
   "cell_type": "code",
   "execution_count": 8,
   "metadata": {},
   "outputs": [],
   "source": [
    "TiC = 180+7+5       # Temperatur steam (Celcius)\n",
    "TeC = 30+5          # Temperatur luar (Celcius)\n",
    "CK = 273.15         # Kompensasi untuk konversi Celcius ke kelvin\n",
    "Ti = TiC + CK       # Temperatur steam (Kelvin)\n",
    "Te = TeC + CK       # Temperatur luar (Kelvin)\n",
    "Velocity = 2        # kecepatan aliran paksa (m/s)\n",
    "width = 10.31e-3    # ketebalan dinding pipa (m)\n",
    "D2 = 323.8e-3       # diameter pipa (m)\n",
    "D1 = D2-2*width     # diameter dalam pipa (m)\n",
    "r1 = D1/2           # jari-jari dalam pipa (m)\n",
    "r2 = D2/2           # jari-jari pipa (m)\n",
    "P = 101325          # Tekanan udara (Pa)"
   ]
  },
  {
   "cell_type": "markdown",
   "metadata": {},
   "source": [
    "Import library"
   ]
  },
  {
   "cell_type": "code",
   "execution_count": 9,
   "metadata": {},
   "outputs": [],
   "source": [
    "import CoolProp.CoolProp as cp  # Coolprop untuk mendapatkan karakteristik fluida pada titik tertentu\n",
    "import numpy as np              # Numpy untuk regresi"
   ]
  },
  {
   "cell_type": "markdown",
   "metadata": {},
   "source": [
    "Deklarasi persamaan umum sebagai bentuk fungsi"
   ]
  },
  {
   "cell_type": "code",
   "execution_count": 10,
   "metadata": {},
   "outputs": [],
   "source": [
    "def fRe(v, Velocity, D):        #Fungsi untuk menghitung bilagan reynolds\n",
    "    return (D * Velocity) / v\n",
    "\n",
    "def fNu(Re, Pr):                #Fungsi untuk menghitung bilangan Nusselt\n",
    "    return 0.3 + (0.62 * Re**0.5 * Pr**(1/3))/((1+(0.4/Pr)**(2/3))**0.25) * (1+(Re/282000)**(5/8))**(4/5)\n",
    "\n",
    "def Pr(Cp, k, mu):              #Fungsi untuk menghitung bilangan Prandtl\n",
    "    return Cp * mu / k\n",
    "\n",
    "def fh(Nu, k, D):               #Fungsi untuk menghitung koefisien konveksi\n",
    "    return Nu * k / D\n",
    "\n",
    "def fRc(r1, r2, k):             #Fungsi untuk menghitung resistansi konduksi\n",
    "    return np.log(r2/r1) / (2 * np.pi * k)\n",
    "\n",
    "def fRh(r, h):                 #Fungsi untuk menghitung resistansi konveksi\n",
    "    return 1 / (2 * np.pi * h * (r))\n",
    "\n"
   ]
  },
  {
   "cell_type": "markdown",
   "metadata": {},
   "source": [
    "Tanpa insualasi"
   ]
  },
  {
   "cell_type": "code",
   "execution_count": 11,
   "metadata": {},
   "outputs": [
    {
     "name": "stdout",
     "output_type": "stream",
     "text": [
      "Besar heat loss adalah 1566.9043073217172 W/m\n",
      "Dengan jumlah iterasi 2\n",
      "1566.9043073217172\n"
     ]
    }
   ],
   "source": [
    "#Regresi linear untuk menentukan koefisien konduksi\n",
    "T_tabel = [400 , 600, 800, 1000]\n",
    "k_tabel = [49.8 , 44.0 , 37.4 , 29.3]\n",
    "k_pipe = np.interp(Ti, T_tabel, k_tabel)\n",
    "\n",
    "\n",
    "#Menentukan resistansi konduksi pipa\n",
    "Rk = fRc(r1,r2,k_pipe)\n",
    "\n",
    "#Resistansi konveksi dipengaruhi Ts yang masih belum diketahui\n",
    "#Oleh karena itu dibuat loop untuk mendekati nilai Ts hingga errornya lebih kecil dari 1%\n",
    "\n",
    "#inisialisasi Ts\n",
    "Ts = Te + 1\n",
    "#Membuat loop untuk mendekati nilai Ts\n",
    "error = 1\n",
    "error1 = 1\n",
    "i = 0\n",
    "while error > 0.004:\n",
    "    error = error1\n",
    "    Tf = (Ts + Te)/2\n",
    "    #Karakteristik fluida pada Tf \n",
    "    Pr = cp.PropsSI('Prandtl', 'T', Tf, 'P', 101325, 'Air') # Menghitung bilangan Prandtl dengan menggunakan Library CoolProp\n",
    "    mu = cp.PropsSI('V', 'T', Tf, 'P', 101325, 'Air')       # Menghitung viskositas dengan menggunakan Library CoolProp\n",
    "    rho = cp.PropsSI('D', 'T', Tf, 'P', 101325, 'Air')      # Menghitung densitas dengan menggunakan Library CoolProp\n",
    "    k = cp.PropsSI('L', 'T', Tf, 'P', 101325, 'Air') \n",
    "    v = mu / rho\n",
    "    Re = fRe(v, Velocity, D2)\n",
    "    Nu = fNu(Re, Pr)\n",
    "    h = fh(Nu, k, D2)\n",
    "    Rh = fRh(r2, h)\n",
    "    Q = (Ti-Te)/(Rk+Rh)\n",
    "    Ts1 = Ts + Q*Rk\n",
    "    error1 = abs(Ts1-Ts)/Ts1\n",
    "    i+=1\n",
    "print (\"Besar heat loss adalah\",Q,\"W/m\\nDengan jumlah iterasi\",i)"
   ]
  },
  {
   "cell_type": "markdown",
   "metadata": {},
   "source": [
    "Dengan insulasi"
   ]
  },
  {
   "cell_type": "code",
   "execution_count": 12,
   "metadata": {},
   "outputs": [],
   "source": [
    "#Informasi lapisan insulasi\n",
    "# Informasi insulator\n",
    "widthI = 1*0.0254 # Ketebalan insulasi (m)\n",
    "KI = 0.03\n",
    "r3 = r2 + widthI # jari-jari insulator (m)\n",
    "\n",
    "# Informasi Cladding\n",
    "widthC = 2*0.0254 # Ketebalan cladding (m)\n",
    "Kcladd = 52\n",
    "r4 = r3 + widthC # jari-jari cladding (m)\n",
    "\n",
    "# Diameter Pipa keseluruhan (m)\n",
    "D3 = 2*r4           \n",
    "RI = fRc(r2,r3,KI)\n",
    "Rcaddl = fRc(r3,r3,Kcladd)"
   ]
  },
  {
   "cell_type": "code",
   "execution_count": 14,
   "metadata": {},
   "outputs": [
    {
     "name": "stdout",
     "output_type": "stream",
     "text": [
      "Besar heat loss adalah 184.2720158408624 W/m\n",
      "Dengan jumlah iterasi 2\n"
     ]
    }
   ],
   "source": [
    "#Dilakukan iterasi kembali\n",
    "Ts = Te + 1\n",
    "#Membuat loop untuk mendekati nilai Ts\n",
    "error = 1\n",
    "error1 = 1\n",
    "i = 0\n",
    "while error > 0.001:\n",
    "    error = error1\n",
    "    Tf = (Ts + Te)/2\n",
    "    #Karakteristik fluida pada Tf \n",
    "    Pr = cp.PropsSI('Prandtl', 'T', Tf, 'P', 101325, 'Air') # Menghitung bilangan Prandtl dengan menggunakan Library CoolProp\n",
    "    mu = cp.PropsSI('V', 'T', Tf, 'P', 101325, 'Air')       # Menghitung viskositas dengan menggunakan Library CoolProp\n",
    "    rho = cp.PropsSI('D', 'T', Tf, 'P', 101325, 'Air')      # Menghitung densitas dengan menggunakan Library CoolProp\n",
    "    k = cp.PropsSI('L', 'T', Tf, 'P', 101325, 'Air') \n",
    "    v = mu / rho\n",
    "    Re = fRe(v, Velocity, D3)\n",
    "    Nu = fNu(Re, Pr)\n",
    "    h = fh(Nu, k, D3)\n",
    "    Rh = fRh(r4, h)\n",
    "    Q = (Ti-Te)/(Rk+Rh+RI+Rcaddl)\n",
    "    Ts1 = Ts + Q*Rk\n",
    "    error1 = abs(Ts1-Ts)/Ts1\n",
    "    i+=1\n",
    "\n",
    "\n",
    "print (\"Besar heat loss adalah\",Q,\"W/m\\nDengan jumlah iterasi\",i)"
   ]
  },
  {
   "cell_type": "markdown",
   "metadata": {},
   "source": [
    "File dari kode ini dapat diakses pada [Github](https://github.com/Shiddieqy/KonduksiPaksa)"
   ]
  }
 ],
 "metadata": {
  "kernelspec": {
   "display_name": "Python 3 (ipykernel)",
   "language": "python",
   "name": "python3"
  },
  "language_info": {
   "codemirror_mode": {
    "name": "ipython",
    "version": 3
   },
   "file_extension": ".py",
   "mimetype": "text/x-python",
   "name": "python",
   "nbconvert_exporter": "python",
   "pygments_lexer": "ipython3",
   "version": "3.10.6"
  },
  "vscode": {
   "interpreter": {
    "hash": "8e75ac1724d7c6ae8c5ebf739458e08ac47472b8e072b2f517732358274ca068"
   }
  }
 },
 "nbformat": 4,
 "nbformat_minor": 2
}
